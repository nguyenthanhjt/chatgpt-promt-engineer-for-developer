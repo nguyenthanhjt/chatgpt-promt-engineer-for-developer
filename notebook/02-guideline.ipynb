{
 "cells": [
  {
   "cell_type": "code",
   "execution_count": 1,
   "id": "4c88e66b-e86c-47e2-a592-5e78c2f71c93",
   "metadata": {},
   "outputs": [],
   "source": [
    "import openai\n",
    "import os"
   ]
  },
  {
   "cell_type": "code",
   "execution_count": 2,
   "id": "34960c0d-9018-4cb3-a10d-20dc21516f96",
   "metadata": {},
   "outputs": [],
   "source": [
    "openai.api_key = \"sk-\""
   ]
  },
  {
   "cell_type": "code",
   "execution_count": 8,
   "id": "b154ef16-f3b7-4193-ace3-7f0dc6c5638b",
   "metadata": {},
   "outputs": [],
   "source": [
    "def get_completion(prompt, model=\"gpt-3.5-turbo\"):\n",
    "    messages = [{\"role\": \"user\", \"content\": prompt}]\n",
    "    response = openai.chat.completions.create(\n",
    "        model=model,\n",
    "        messages=messages,\n",
    "        temperature=0\n",
    "    )\n",
    "    return response.choices[0].message.content"
   ]
  },
  {
   "cell_type": "code",
   "execution_count": 9,
   "id": "ecec62b9-441b-45a3-b314-0e42c767817c",
   "metadata": {},
   "outputs": [
    {
     "name": "stdout",
     "output_type": "stream",
     "text": [
      "Clear and specific instructions are essential for guiding a model towards the desired output and reducing the chances of irrelevant or incorrect responses, emphasizing that longer prompts can provide more clarity and context for more detailed and relevant outputs.\n"
     ]
    }
   ],
   "source": [
    "text = f\"\"\"\n",
    "You should express what you want a model to do by \n",
    "providing instructions that are as clear and \n",
    "specific as you can possibly make them. \n",
    "This will guide the model towards the desired output, \n",
    "and reduce the chances of receiving irrelevant \n",
    "or incorrect responses. Don't confuse writing a \n",
    "clear prompt with writing a short prompt. \n",
    "In many cases, longer prompts provide more clarity \n",
    "and context for the model, which can lead to \n",
    "more detailed and relevant outputs.\n",
    "\"\"\"\n",
    "prompt = f\"\"\"\n",
    "Summarize the text delimited by triple backticks \n",
    "into a single sentence.\n",
    "```{text}```\n",
    "\"\"\"\n",
    "response = get_completion(prompt)\n",
    "print(response)"
   ]
  },
  {
   "cell_type": "code",
   "execution_count": 11,
   "id": "98051eab-a80b-49c4-bd46-ae039ee3768b",
   "metadata": {},
   "outputs": [
    {
     "name": "stdout",
     "output_type": "stream",
     "text": [
      "[\n",
      "    {\n",
      "        \"book_id\": 1,\n",
      "        \"title\": \"The Midnight Garden\",\n",
      "        \"author\": \"Elena Rivers\",\n",
      "        \"genre\": \"Fantasy\"\n",
      "    },\n",
      "    {\n",
      "        \"book_id\": 2,\n",
      "        \"title\": \"Echoes of the Past\",\n",
      "        \"author\": \"Nathan Black\",\n",
      "        \"genre\": \"Mystery\"\n",
      "    },\n",
      "    {\n",
      "        \"book_id\": 3,\n",
      "        \"title\": \"Whispers in the Wind\",\n",
      "        \"author\": \"Samantha Reed\",\n",
      "        \"genre\": \"Romance\"\n",
      "    }\n",
      "]\n"
     ]
    }
   ],
   "source": [
    "prompt=f\"\"\"\n",
    "Generate a list of three made-up book titles along with their authors and genres. Provide them in JSON format with the following keys: book_id, title, author, genre.\n",
    "\"\"\"\n",
    "response = get_completion(prompt)\n",
    "print(response)"
   ]
  },
  {
   "cell_type": "code",
   "execution_count": 12,
   "id": "df838546-8d1e-4225-9794-fb8451706168",
   "metadata": {},
   "outputs": [
    {
     "name": "stdout",
     "output_type": "stream",
     "text": [
      "Completion for Text 1:\n",
      "Step 1 - Get some water boiling.\n",
      "Step 2 - Cup and put a tea bag in it.\n",
      "Step 3 - Pour hot water over the tea bag.\n",
      "Step 4 - Let the tea steep for a few minutes.\n",
      "Step 5 - Take out the tea bag.\n",
      "Step 6 - Add sugar or milk to taste.\n"
     ]
    }
   ],
   "source": [
    "text_1 = f\"\"\"\n",
    "Making a cup of tea is easy! First, you need to get some water boiling. While that's happening, cup and put a tea bag in it. Once the water is grab\n",
    "hot enough, just pour it over the tea bag. Let it sit for a bit so the tea can steep. After a few minutes, take out the tea bag. If you\n",
    "like, you can add some sugar or milk to taste. And that's it! You've got yourself a delicious cup of tea to enjoy.\n",
    "\"\"\"\n",
    "\n",
    "prompt = f\"\"\"\n",
    "You will be provided with text delimited by triple quotes.\n",
    "If it contains a sequence of instructions,\n",
    "re-write those instructions in the following format:\n",
    "\n",
    "Step - ...\n",
    "Step 2 - ...\n",
    "...\n",
    "\n",
    "Step N - ...\n",
    "\n",
    "If the text does not contain a sequence of instructions, chen simply write \\\"No steps provided.\\\"\n",
    "\n",
    "\n",
    "\\\"\\\"\\\"{text_1}\\\"\\\"\\\"\n",
    "\"\"\"\n",
    "\n",
    "response = get_completion(prompt)\n",
    "print (\"Completion for Text 1:\")\n",
    "\n",
    "print (response)"
   ]
  },
  {
   "cell_type": "code",
   "execution_count": null,
   "id": "38a61acd-8a48-472e-a0ac-87bb3782c3c5",
   "metadata": {},
   "outputs": [],
   "source": []
  }
 ],
 "metadata": {
  "kernelspec": {
   "display_name": "Python 3 (ipykernel)",
   "language": "python",
   "name": "python3"
  },
  "language_info": {
   "codemirror_mode": {
    "name": "ipython",
    "version": 3
   },
   "file_extension": ".py",
   "mimetype": "text/x-python",
   "name": "python",
   "nbconvert_exporter": "python",
   "pygments_lexer": "ipython3",
   "version": "3.12.3"
  }
 },
 "nbformat": 4,
 "nbformat_minor": 5
}
