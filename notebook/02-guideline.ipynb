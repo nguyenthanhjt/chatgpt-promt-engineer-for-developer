{
 "cells": [
  {
   "cell_type": "code",
   "execution_count": 1,
   "id": "4c88e66b-e86c-47e2-a592-5e78c2f71c93",
   "metadata": {},
   "outputs": [],
   "source": [
    "import openai\n",
    "import os"
   ]
  },
  {
   "cell_type": "code",
   "execution_count": 2,
   "id": "34960c0d-9018-4cb3-a10d-20dc21516f96",
   "metadata": {},
   "outputs": [],
   "source": [
    "openai.api_key = \"sk-\""
   ]
  },
  {
   "cell_type": "code",
   "execution_count": 8,
   "id": "b154ef16-f3b7-4193-ace3-7f0dc6c5638b",
   "metadata": {},
   "outputs": [],
   "source": [
    "def get_completion(prompt, model=\"gpt-3.5-turbo\"):\n",
    "    messages = [{\"role\": \"user\", \"content\": prompt}]\n",
    "    response = openai.chat.completions.create(\n",
    "        model=model,\n",
    "        messages=messages,\n",
    "        temperature=0\n",
    "    )\n",
    "    return response.choices[0].message.content"
   ]
  },
  {
   "cell_type": "code",
   "execution_count": null,
   "id": "02c27ceb-01e0-46d8-a437-e023227e9f15",
   "metadata": {},
   "outputs": [],
   "source": [
    "# Principle 1: Write clear and specific Instructions"
   ]
  },
  {
   "cell_type": "code",
   "execution_count": null,
   "id": "b8b4ca4a-7b14-4378-8550-c613c4f533a1",
   "metadata": {},
   "outputs": [],
   "source": [
    "## Principle 1 - Tactic 1: Use delimiters"
   ]
  },
  {
   "cell_type": "code",
   "execution_count": 9,
   "id": "ecec62b9-441b-45a3-b314-0e42c767817c",
   "metadata": {},
   "outputs": [
    {
     "name": "stdout",
     "output_type": "stream",
     "text": [
      "Clear and specific instructions are essential for guiding a model towards the desired output and reducing the chances of irrelevant or incorrect responses, emphasizing that longer prompts can provide more clarity and context for more detailed and relevant outputs.\n"
     ]
    }
   ],
   "source": [
    "text = f\"\"\"\n",
    "You should express what you want a model to do by \n",
    "providing instructions that are as clear and \n",
    "specific as you can possibly make them. \n",
    "This will guide the model towards the desired output, \n",
    "and reduce the chances of receiving irrelevant \n",
    "or incorrect responses. Don't confuse writing a \n",
    "clear prompt with writing a short prompt. \n",
    "In many cases, longer prompts provide more clarity \n",
    "and context for the model, which can lead to \n",
    "more detailed and relevant outputs.\n",
    "\"\"\"\n",
    "prompt = f\"\"\"\n",
    "Summarize the text delimited by triple backticks \n",
    "into a single sentence.\n",
    "```{text}```\n",
    "\"\"\"\n",
    "response = get_completion(prompt)\n",
    "print(response)"
   ]
  },
  {
   "cell_type": "code",
   "execution_count": null,
   "id": "48a1353e-6892-4a8c-b5b8-4d78a198f7f7",
   "metadata": {},
   "outputs": [],
   "source": [
    "## Tactic 2: Ask for structured output"
   ]
  },
  {
   "cell_type": "code",
   "execution_count": 11,
   "id": "98051eab-a80b-49c4-bd46-ae039ee3768b",
   "metadata": {},
   "outputs": [
    {
     "name": "stdout",
     "output_type": "stream",
     "text": [
      "[\n",
      "    {\n",
      "        \"book_id\": 1,\n",
      "        \"title\": \"The Midnight Garden\",\n",
      "        \"author\": \"Elena Rivers\",\n",
      "        \"genre\": \"Fantasy\"\n",
      "    },\n",
      "    {\n",
      "        \"book_id\": 2,\n",
      "        \"title\": \"Echoes of the Past\",\n",
      "        \"author\": \"Nathan Black\",\n",
      "        \"genre\": \"Mystery\"\n",
      "    },\n",
      "    {\n",
      "        \"book_id\": 3,\n",
      "        \"title\": \"Whispers in the Wind\",\n",
      "        \"author\": \"Samantha Reed\",\n",
      "        \"genre\": \"Romance\"\n",
      "    }\n",
      "]\n"
     ]
    }
   ],
   "source": [
    "prompt=f\"\"\"\n",
    "Generate a list of three made-up book titles along with their authors and genres. Provide them in JSON format with the following keys: book_id, title, author, genre.\n",
    "\"\"\"\n",
    "response = get_completion(prompt)\n",
    "print(response)"
   ]
  },
  {
   "cell_type": "code",
   "execution_count": null,
   "id": "ec70ef28-129d-4772-a223-c11a7314e7c5",
   "metadata": {},
   "outputs": [],
   "source": [
    "## Tactic 3: Check whether conditions are satisfied"
   ]
  },
  {
   "cell_type": "code",
   "execution_count": null,
   "id": "565abab6-af2d-487c-ae70-9fb59bd5bf32",
   "metadata": {},
   "outputs": [],
   "source": [
    "### Tactic 3 - Example 1"
   ]
  },
  {
   "cell_type": "code",
   "execution_count": 12,
   "id": "df838546-8d1e-4225-9794-fb8451706168",
   "metadata": {},
   "outputs": [
    {
     "name": "stdout",
     "output_type": "stream",
     "text": [
      "Completion for Text 1:\n",
      "Step 1 - Get some water boiling.\n",
      "Step 2 - Cup and put a tea bag in it.\n",
      "Step 3 - Pour hot water over the tea bag.\n",
      "Step 4 - Let the tea steep for a few minutes.\n",
      "Step 5 - Take out the tea bag.\n",
      "Step 6 - Add sugar or milk to taste.\n"
     ]
    }
   ],
   "source": [
    "text_1 = f\"\"\"\n",
    "Making a cup of tea is easy! First, you need to get some water boiling. While that's happening, cup and put a tea bag in it. Once the water is grab\n",
    "hot enough, just pour it over the tea bag. Let it sit for a bit so the tea can steep. After a few minutes, take out the tea bag. If you\n",
    "like, you can add some sugar or milk to taste. And that's it! You've got yourself a delicious cup of tea to enjoy.\n",
    "\"\"\"\n",
    "\n",
    "prompt = f\"\"\"\n",
    "You will be provided with text delimited by triple quotes.\n",
    "If it contains a sequence of instructions,\n",
    "re-write those instructions in the following format:\n",
    "\n",
    "Step - ...\n",
    "Step 2 - ...\n",
    "...\n",
    "\n",
    "Step N - ...\n",
    "\n",
    "If the text does not contain a sequence of instructions, chen simply write \\\"No steps provided.\\\"\n",
    "\n",
    "\n",
    "\\\"\\\"\\\"{text_1}\\\"\\\"\\\"\n",
    "\"\"\"\n",
    "\n",
    "response = get_completion(prompt)\n",
    "print (\"Completion for Text 1:\")\n",
    "\n",
    "print (response)"
   ]
  },
  {
   "cell_type": "code",
   "execution_count": null,
   "id": "6daed5ef-2b73-4dfb-8462-37465013cfd3",
   "metadata": {},
   "outputs": [],
   "source": [
    "### Tactic 3 - Example 2:"
   ]
  },
  {
   "cell_type": "code",
   "execution_count": 23,
   "id": "db1bc825-74ba-4514-879e-42b6cb8d4a49",
   "metadata": {},
   "outputs": [
    {
     "name": "stdout",
     "output_type": "stream",
     "text": [
      "Completion for Text 1:\n",
      "No steps provided.\n"
     ]
    }
   ],
   "source": [
    "text_2 = f\"\"\"\n",
    "The sun is shining brightly today, and the birds are singing. It's a beautiful day to go for a\n",
    "walk in the park. The flowers are blooming, and the trees are swaying gently in the breeze. People\n",
    "are out and about, enjoying the lovely weather. Some are having picnics, while others are playing\n",
    "games or simply relaxing on the grass. It's a perfect day to spend time outdoors and appreciate the beauty of nature.\n",
    "\"\"\"\n",
    "prompt = f\"\"\"\n",
    "You will be provided with text delimited by triple quotes.\n",
    "If it contains a sequence of instructions,\n",
    "re-write those instructions in the following format:\n",
    "\n",
    "Step - ...\n",
    "Step 2 - ...\n",
    "...\n",
    "\n",
    "Step N - ...\n",
    "\n",
    "If the text does not contain a sequence of instructions, chen simply write \\\"No steps provided.\\\"\n",
    "\n",
    "\n",
    "\\\"\\\"\\\"{text_2}\\\"\\\"\\\"\n",
    "\"\"\"\n",
    "\n",
    "response = get_completion(prompt)\n",
    "print (\"Completion for Text 1:\")\n",
    "\n",
    "print (response)\n"
   ]
  },
  {
   "cell_type": "code",
   "execution_count": null,
   "id": "daea6274-de4e-4d60-a392-ecb760b852ad",
   "metadata": {},
   "outputs": [],
   "source": [
    "## tactic 4: few-shot prompting"
   ]
  },
  {
   "cell_type": "code",
   "execution_count": 13,
   "id": "38a61acd-8a48-472e-a0ac-87bb3782c3c5",
   "metadata": {},
   "outputs": [
    {
     "name": "stdout",
     "output_type": "stream",
     "text": [
      "Completion for Few-shot prompting example:\n",
      "‹grandparent›: Resilience is like a tree that withstands the fiercest storms, bending but never breaking. It is the flame that flickers but never goes out, no matter how strong the wind may blow. Just like the river that finds a new path when obstacles block its way, resilience allows us to adapt and overcome challenges with strength and determination.\n"
     ]
    }
   ],
   "source": [
    "prompt = f\"\"\"\n",
    "Your task is to answer in  a consistent style.\n",
    "\n",
    "<child>: Teach me about patience.\n",
    "\n",
    "‹grandparent>: The river that carves the deepest valley flows from a modest spring; the grandest symphony originates a from a single note;\n",
    "the most intricate tapestry begins with a solitary thread.\n",
    "\n",
    "<child>: Teach me about resilience. Y\n",
    "\"\"\"\n",
    "\n",
    "response = get_completion(prompt)\n",
    "print (\"Completion for Few-shot prompting example:\")\n",
    "print (response)"
   ]
  },
  {
   "cell_type": "code",
   "execution_count": null,
   "id": "e15416fe-851c-4fc1-beea-4cc120c0326c",
   "metadata": {},
   "outputs": [],
   "source": [
    "# Principle 2: Give the model time to Think"
   ]
  },
  {
   "cell_type": "code",
   "execution_count": null,
   "id": "94bdc66f-b878-4e31-930d-847477f53bf0",
   "metadata": {},
   "outputs": [],
   "source": [
    "## Tactic 1: Specify the steps to complete a task"
   ]
  },
  {
   "cell_type": "code",
   "execution_count": 17,
   "id": "65f761a5-b2f6-4c08-9352-1e4d20ae9756",
   "metadata": {},
   "outputs": [
    {
     "name": "stdout",
     "output_type": "stream",
     "text": [
      "Completion for prompt_1:\n",
      "1 - Jack and Jill go on a quest to fetch water from a well, but encounter misfortune along the way, yet remain adventurous and joyful.\n",
      "\n",
      "2 - Jack et Jill partent en quête d'eau d'un puits, mais rencontrent des malheurs en chemin, tout en restant aventureux et joyeux.\n",
      "\n",
      "3 - Jack, Jill\n",
      "\n",
      "4 - \n",
      "{\n",
      "  \"french_summary\": \"Jack et Jill partent en quête d'eau d'un puits, mais rencontrent des malheurs en chemin, tout en restant aventureux et joyeux.\",\n",
      "  \"num_names\": 2\n",
      "}\n"
     ]
    }
   ],
   "source": [
    "\n",
    "text = f\"\"\"\n",
    "In a charming village, siblings Jack and Jill set out on quest to fetch water from a hilltop well.\n",
    "As they climbed, singing joyfully, misfortune struck-Jack tripped on stone and tumbled down the hill, with Jill following suit.\n",
    "Though slightly battered, the pair returned home to comforting embraces. Despite the mishap, their adventurous spirits remained undimmed, and they continued exploring with delight.\n",
    "\"\"\"\n",
    "\n",
    "prompt_1 = f\"\"\"\n",
    "Perform the following actions:\n",
    "1 - Summarize the following text delimited by triple backticks with 1 sentence.\n",
    "2 - Translate the summary into French\n",
    "3 - List each name in the French summary\n",
    "4 - Output a json object that contains the following keys: french_summary, num_names.\n",
    "\n",
    "Separate your answer with line breaks.\n",
    "\n",
    "Text:\n",
    "```{text}````\n",
    "\"\"\"\n",
    "\n",
    "response = get_completion(prompt_1)\n",
    "print (\"Completion for prompt_1:\")\n",
    "print (response)"
   ]
  },
  {
   "cell_type": "code",
   "execution_count": null,
   "id": "6da0aa24-ead7-465a-b32c-3e67bd365af4",
   "metadata": {},
   "outputs": [],
   "source": [
    "text = f\"\"\"\n",
    "In a charming village, siblings Jack and Jill set out on quest to fetch water from a hilltop well.\n",
    "As they climbed, singing joyfully, misfortune struck-Jack tripped on stone and tumbled down the hill, with Jill following suit.\n",
    "Though slightly battered, the pair returned home to comforting embraces. \n",
    "Despite the mishap, their adventurous spirits remained undimmed, and they continued exploring with delight.\n",
    "\"\"\"\n",
    "\n",
    "prompt_2 = f\"\"\"\n",
    "Your task is to perform the following actions:\n",
    "1 - Summarize the following text delimited by <> with 1 sentence.\n",
    "2 - Translate the summary into French\n",
    "3 - List each name in the French summary\n",
    "4 - Output a json object that contains the following keys: french_summary, num_names.\n",
    "\n",
    "Use the following format:\n",
    "Text: <text to summarize>\n",
    "Summary: <summary\n",
    "Translation: <summary translation\n",
    "Names: <List of names in Italian summary>\n",
    "Output JSON: <json with summary and num_names>\n",
    "Text to summarize:<{text}>\n",
    "\"\"\"\n",
    "\n",
    "response = get_completion(prompt_2)\n",
    "print (\"Completion for prompt_2:\")\n",
    "print (response)"
   ]
  },
  {
   "cell_type": "code",
   "execution_count": null,
   "id": "e5038041-a419-4d63-ab0f-2620223b58db",
   "metadata": {},
   "outputs": [
    {
     "name": "stdout",
     "output_type": "stream",
     "text": [
      "Completion for prompt_2:\n",
      "Summary: Jack and Jill, two siblings, go on a quest to fetch water from a well on a hilltop, but encounter misfortune along the way.\n",
      "\n",
      "Translation: Jack et Jill, deux frères et sœurs, partent en quête d'eau d'un puits situé au sommet d'une colline, mais rencontrent des malheurs en chemin.\n",
      "\n",
      "Names: Jack, Jill\n",
      "\n",
      "Output JSON: \n",
      "{\n",
      "  \"french_summary\": \"Jack et Jill, deux frères et sœurs, partent en quête d'eau d'un puits situé au sommet d'une colline, mais rencontrent des malheurs en chemin.\",\n",
      "  \"num_names\": 2\n",
      "}\n"
     ]
    }
   ],
   "source": [
    "### example 2: asking for output in a specified format"
   ]
  },
  {
   "cell_type": "code",
   "execution_count": null,
   "id": "0ec092bf-9a74-49a2-a2e8-93826e5d7040",
   "metadata": {},
   "outputs": [],
   "source": [
    "## Tactic 2: Instruct the model to work out its own solution before rushing to a conclusion"
   ]
  },
  {
   "cell_type": "code",
   "execution_count": null,
   "id": "a0c4a750-00c3-4a97-b44b-df862e6f610b",
   "metadata": {},
   "outputs": [],
   "source": [
    "### Principle 2 - Tactic 2 - Example 1:"
   ]
  },
  {
   "cell_type": "code",
   "execution_count": 21,
   "id": "fc76f41d-95fa-416f-b054-7f7e81aff1e4",
   "metadata": {},
   "outputs": [
    {
     "name": "stdout",
     "output_type": "stream",
     "text": [
      "The student's solution is incorrect. The correct total cost for the first year of operations should be:\n",
      "Total cost = Land cost + Solar panel cost + Maintenance cost\n",
      "Total cost = 100x + 250x + (100,000 + 10x)\n",
      "Total cost = 350x + 100,000\n"
     ]
    }
   ],
   "source": [
    "prompt = f\"\"\"\n",
    "Determine if the student's solution is correct or not.\n",
    "\n",
    "Question:\n",
    "I'm building a solar power installation and I need help working out the financials.\n",
    "- Land costs $100 / square foot\n",
    "- I can buy solar panels for $250 / square foot\n",
    "- I negotiated a contract for maintenance that will cost me a flat $100k per year, and an additional $10 / square foot\n",
    "What is the total cost for the first year of operations as a function of the number of square feet?\n",
    "\n",
    "\n",
    "Student's Solution:\n",
    "Let x be the size of the installation in square feet.\n",
    "Costs:\n",
    "1. Land cost: 100x\n",
    "2. Solar panel cost: 250x                                                   2.\n",
    "3. Maintenance cost: 100,000 + 100X\n",
    "Total cost: 100x + 250x + 100,000 + 100x = 450x + 100,000\n",
    "\"\"\"\n",
    "response = get_completion(prompt)\n",
    "print (response)"
   ]
  },
  {
   "cell_type": "code",
   "execution_count": 27,
   "id": "cb470419-d692-4b6e-aabc-04029c57f659",
   "metadata": {},
   "outputs": [
    {
     "name": "stdout",
     "output_type": "stream",
     "text": [
      "The student's solution is incorrect. The correct total cost for the first year of operations should be:\n",
      "Total cost = Land cost + Solar panel cost + Maintenance cost\n",
      "Total cost = 100x + 250x + (100,000 + 10x)\n",
      "Total cost = 350x + 100,000\n",
      "Let x be the size of the installation in square feet.\n",
      "Costs:\n",
      "1. Land cost: $100 * x = $100x\n",
      "2. Solar panel cost: $250 * x = $250x\n",
      "3. Maintenance cost: $100,000 + $10 * x = $100,000 + $10x\n",
      "Total cost: $100x + $250x + $100,000 + $10x = $360x + $100,000\n",
      "\n",
      "Is the student's solution the same as actual solution just calculated:\n",
      "```\n",
      "No\n",
      "```\n",
      "\n",
      "Student grade:\n",
      "```\n",
      "Incorrect\n",
      "```\n"
     ]
    }
   ],
   "source": [
    "prompt = f\"\"\"\n",
    "Determine if the student's solution is correct or not.\n",
    "\n",
    "Question:\n",
    "I'm building a solar power installation and I need help working out the financials.\n",
    "- Land costs $100 / square foot\n",
    "- I can buy solar panels for $250 / square foot\n",
    "- I negotiated a contract for maintenance that will cost me a flat $100k per year, and an additional $10 / square foot\n",
    "What is the total cost for the first year of operations as a function of the number of square feet?\n",
    "\n",
    "\n",
    "Student's Solution:\n",
    "Let x be the size of the installation in square feet.\n",
    "Costs:\n",
    "1. Land cost: 100x\n",
    "2. Solar panel cost: 250x\n",
    "3. Maintenance cost: 100,000 + 100X\n",
    "Total cost: 100x + 250x + 100,000 + 100x = 450x + 100,000\n",
    "\"\"\"\n",
    "response = get_completion(prompt)\n",
    "print (response) \n",
    "\n",
    "### Princle 2 - Tactic 2 - Example 2\n",
    "\n",
    "prompt = f\"\"\"\n",
    "Your task is to determine if the student's solution is correct or not.\n",
    "To solve the problem do the following: \n",
    "- First, work out your own solution to the problem.\n",
    "- Then compare your solution to the student's solution and evaluate if the student's solution is correct or not.\n",
    "Don't decide if the student's solution is correct until you have done the problem yourself.\n",
    "\n",
    "Use the following format:\n",
    "Question:\n",
    "```\n",
    "question here\n",
    "```\n",
    "\n",
    "Student's solution:\n",
    "```\n",
    "student's solution here\n",
    "```\n",
    "\n",
    "Actual solution:\n",
    "```\n",
    "steps to work out the solution and your solution here\n",
    "```\n",
    "\n",
    "Is the student's solution the same as actual solution just calculated:\n",
    "```\n",
    "yes or no\n",
    "```\n",
    "\n",
    "Student grade:\n",
    "```\n",
    "correct or incorrect\n",
    "```\n",
    "\n",
    "Question:\n",
    "```\n",
    "Question:\n",
    "I'm building a solar power installation and I need help working out the financials.\n",
    "- Land costs $100 / square foot\n",
    "- I can buy solar panels for $250 / square foot\n",
    "- I negotiated a contract for maintenance that will cost me a flat $100k per year, and an additional $10 / square foot\n",
    "What is the total cost for the first year of operations as a function of the number of square feet?\n",
    "```\n",
    "\n",
    "Student's Solution:\n",
    "```\n",
    "Let x be the size of the installation in square feet.\n",
    "Costs:\n",
    "1. Land cost: 100x\n",
    "2. Solar panel cost: 250x\n",
    "3. Maintenance cost: 100,000 + 100X\n",
    "Total cost: 100x + 250x + 100,000 + 100x = 450x + 100,000\n",
    "```\n",
    "\n",
    "Actual Solution:\n",
    "\"\"\"\n",
    "response = get_completion(prompt)\n",
    "print (response) "
   ]
  },
  {
   "cell_type": "code",
   "execution_count": 28,
   "id": "bd2c5d3c-90ab-422c-883b-e8f0b03939b2",
   "metadata": {},
   "outputs": [
    {
     "name": "stdout",
     "output_type": "stream",
     "text": [
      "The AeroGlide UltraSlim Smart Toothbrush by Boie is a high-tech toothbrush designed to provide a superior cleaning experience. It features ultra-soft bristles that are gentle on the gums and teeth, while still effectively removing plaque and debris. The toothbrush also has a slim design that makes it easy to maneuver and reach all areas of the mouth.\n",
      "\n",
      "One of the standout features of the AeroGlide UltraSlim Smart Toothbrush is its smart technology. It connects to a mobile app that tracks your brushing habits and provides personalized recommendations for improving your oral hygiene routine. The app also includes a timer to ensure you are brushing for the recommended two minutes.\n",
      "\n",
      "Overall, the AeroGlide UltraSlim Smart Toothbrush is a sleek and innovative option for those looking to upgrade their oral care routine.\n"
     ]
    }
   ],
   "source": [
    "prompt = f\"\"\"\n",
    "Tell me about AeroGlide UltraSlim Smart Toothbrush by Boie\n",
    "\"\"\"\n",
    "response = get_completion(prompt)\n",
    "print (response) "
   ]
  },
  {
   "cell_type": "code",
   "execution_count": null,
   "id": "b2c8bc8f-8a32-48d5-a01a-4c075e10531a",
   "metadata": {},
   "outputs": [],
   "source": []
  }
 ],
 "metadata": {
  "kernelspec": {
   "display_name": "Python 3 (ipykernel)",
   "language": "python",
   "name": "python3"
  },
  "language_info": {
   "codemirror_mode": {
    "name": "ipython",
    "version": 3
   },
   "file_extension": ".py",
   "mimetype": "text/x-python",
   "name": "python",
   "nbconvert_exporter": "python",
   "pygments_lexer": "ipython3",
   "version": "3.12.3"
  }
 },
 "nbformat": 4,
 "nbformat_minor": 5
}
